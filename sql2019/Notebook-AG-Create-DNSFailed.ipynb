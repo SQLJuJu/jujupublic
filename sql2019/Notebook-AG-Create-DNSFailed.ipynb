{
    "metadata": {
        "kernelspec": {
            "name": "SQL",
            "display_name": "SQL",
            "language": "sql"
        },
        "language_info": {
            "name": "sql",
            "version": ""
        }
    },
    "nbformat_minor": 2,
    "nbformat": 4,
    "cells": [
        {
            "cell_type": "markdown",
            "source": "\r\nScenario:\r\nCreating Availability Group with one primary, one secondary - Scenario: secondary cannot reach primary.  Result: Error messages in SQL Server logs and SSMS do not indicate a DNS lookup failure, but rather hint at a connectivity/firewall issue. \r\nIn this case, root cause was that the two servers (Linux containers ubuntu1 and ubuntu2) were configured differently and the 'ubuntu2' instance did not have 'ubuntu1' in its /etc/hosts file, but 'ubuntu1' did have 'ubuntu2' in its own. ",
            "metadata": {}
        },
        {
            "cell_type": "markdown",
            "source": "Code Version 1 \r\n\r\n(This version works).\r\n\r\nSource: Generated from SSMS 18.1 UI  (15.0.18131.0)",
            "metadata": {}
        },
        {
            "cell_type": "code",
            "source": "--- YOU MUST EXECUTE THE FOLLOWING SCRIPT IN SQLCMD MODE.\r\n:Connect 10.0.0.30\r\n\r\nIF (SELECT state FROM sys.endpoints WHERE name = N'AGEP') <> 0\r\nBEGIN\r\n\tALTER ENDPOINT [AGEP] STATE = STARTED\r\nEND\r\n\r\n\r\nGO\r\n\r\n:Connect 10.0.0.30\r\n\r\nIF EXISTS(SELECT * FROM sys.server_event_sessions WHERE name='AlwaysOn_health')\r\nBEGIN\r\n  ALTER EVENT SESSION [AlwaysOn_health] ON SERVER WITH (STARTUP_STATE=ON);\r\nEND\r\nIF NOT EXISTS(SELECT * FROM sys.dm_xe_sessions WHERE name='AlwaysOn_health')\r\nBEGIN\r\n  ALTER EVENT SESSION [AlwaysOn_health] ON SERVER STATE=START;\r\nEND\r\n\r\nGO\r\n\r\n:Connect ubuntu2\r\n\r\nIF (SELECT state FROM sys.endpoints WHERE name = N'AGEP') <> 0\r\nBEGIN\r\n\tALTER ENDPOINT [AGEP] STATE = STARTED\r\nEND\r\n\r\n\r\nGO\r\n\r\n:Connect ubuntu2\r\n\r\nIF EXISTS(SELECT * FROM sys.server_event_sessions WHERE name='AlwaysOn_health')\r\nBEGIN\r\n  ALTER EVENT SESSION [AlwaysOn_health] ON SERVER WITH (STARTUP_STATE=ON);\r\nEND\r\nIF NOT EXISTS(SELECT * FROM sys.dm_xe_sessions WHERE name='AlwaysOn_health')\r\nBEGIN\r\n  ALTER EVENT SESSION [AlwaysOn_health] ON SERVER STATE=START;\r\nEND\r\n\r\nGO\r\n\r\n:Connect 10.0.0.30\r\n\r\nUSE [master]\r\n\r\nGO\r\n\r\n\r\n\r\n\r\nCREATE AVAILABILITY GROUP [AW1]\r\nWITH (AUTOMATED_BACKUP_PREFERENCE = SECONDARY,\r\nDB_FAILOVER = ON,\r\nDTC_SUPPORT = NONE,\r\nCLUSTER_TYPE = NONE,\r\nREQUIRED_SYNCHRONIZED_SECONDARIES_TO_COMMIT = 0)\r\nFOR DATABASE [AdventureWorks2017]\r\nREPLICA ON N'ubuntu1' WITH (ENDPOINT_URL = N'TCP://10.0.0.30:5022', FAILOVER_MODE = MANUAL, AVAILABILITY_MODE = SYNCHRONOUS_COMMIT, BACKUP_PRIORITY = 50, SEEDING_MODE = MANUAL, SECONDARY_ROLE(ALLOW_CONNECTIONS = ALL)),\r\n\tN'ubuntu2' WITH (ENDPOINT_URL = N'TCP://10.0.0.31:5022', FAILOVER_MODE = MANUAL, AVAILABILITY_MODE = SYNCHRONOUS_COMMIT, BACKUP_PRIORITY = 50, SEEDING_MODE = MANUAL, SECONDARY_ROLE(ALLOW_CONNECTIONS = ALL));\r\n\r\nGO\r\n\r\n:Connect 10.0.0.30\r\n\r\nUSE [master]\r\n\r\nGO\r\n\r\nALTER AVAILABILITY GROUP [AW1]\r\nADD LISTENER N'jaw' (\r\nWITH IP\r\n((N'10.0.0.30', N'255.255.255.0')\r\n)\r\n, PORT=15000);\r\n\r\nGO\r\n\r\n:Connect ubuntu2\r\n\r\nALTER AVAILABILITY GROUP [AW1] JOIN WITH (CLUSTER_TYPE = NONE);\r\n\r\nGO\r\n\r\n:Connect ubuntu2\r\n\r\n\r\n-- Wait for the replica to start communicating\r\nbegin try\r\ndeclare @conn bit\r\ndeclare @count int\r\ndeclare @replica_id uniqueidentifier \r\ndeclare @group_id uniqueidentifier\r\nset @conn = 0\r\nset @count = 30 -- wait for 5 minutes \r\n\r\nif (serverproperty('IsHadrEnabled') = 1)\r\n\tand (isnull((select member_state from master.sys.dm_hadr_cluster_members where upper(member_name COLLATE Latin1_General_CI_AS) = upper(cast(serverproperty('ComputerNamePhysicalNetBIOS') as nvarchar(256)) COLLATE Latin1_General_CI_AS)), 0) <> 0)\r\n\tand (isnull((select state from master.sys.database_mirroring_endpoints), 1) = 0)\r\nbegin\r\n    select @group_id = ags.group_id from master.sys.availability_groups as ags where name = N'AW1'\r\n\tselect @replica_id = replicas.replica_id from master.sys.availability_replicas as replicas where upper(replicas.replica_server_name COLLATE Latin1_General_CI_AS) = upper(@@SERVERNAME COLLATE Latin1_General_CI_AS) and group_id = @group_id\r\n\twhile @conn <> 1 and @count > 0\r\n\tbegin\r\n\t\tset @conn = isnull((select connected_state from master.sys.dm_hadr_availability_replica_states as states where states.replica_id = @replica_id), 1)\r\n\t\tif @conn = 1\r\n\t\tbegin\r\n\t\t\t-- exit loop when the replica is connected, or if the query cannot find the replica status\r\n\t\t\tbreak\r\n\t\tend\r\n\t\twaitfor delay '00:00:10'\r\n\t\tset @count = @count - 1\r\n\tend\r\nend\r\nend try\r\nbegin catch\r\n\t-- If the wait loop fails, do not stop execution of the alter database statement\r\nend catch\r\nALTER DATABASE [AdventureWorks2017] SET HADR AVAILABILITY GROUP = [AW1];\r\n\r\nGO\r\n\r\n\r\nGO\r\n\r\n\r\n",
            "metadata": {},
            "outputs": [],
            "execution_count": 0
        },
        {
            "cell_type": "markdown",
            "source": "Code version 2 \r\n\r\nChanged IPs to reference 'ubuntu1' and 'ubuntu2' as hostname instead of by IP address.  In the scenario described above, this fails because 'ubuntu2' as secondary cannot reach 'ubuntu1' as primary.  ",
            "metadata": {}
        },
        {
            "cell_type": "code",
            "source": "--- YOU MUST EXECUTE THE FOLLOWING SCRIPT IN SQLCMD MODE.\r\n:Connect 10.0.0.30\r\n\r\nIF (SELECT state FROM sys.endpoints WHERE name = N'AGEP') <> 0\r\nBEGIN\r\n\tALTER ENDPOINT [AGEP] STATE = STARTED\r\nEND\r\n\r\n\r\nGO\r\n\r\n:Connect 10.0.0.30\r\n\r\nIF EXISTS(SELECT * FROM sys.server_event_sessions WHERE name='AlwaysOn_health')\r\nBEGIN\r\n  ALTER EVENT SESSION [AlwaysOn_health] ON SERVER WITH (STARTUP_STATE=ON);\r\nEND\r\nIF NOT EXISTS(SELECT * FROM sys.dm_xe_sessions WHERE name='AlwaysOn_health')\r\nBEGIN\r\n  ALTER EVENT SESSION [AlwaysOn_health] ON SERVER STATE=START;\r\nEND\r\n\r\nGO\r\n\r\n:Connect ubuntu2\r\n\r\nIF (SELECT state FROM sys.endpoints WHERE name = N'AGEP') <> 0\r\nBEGIN\r\n\tALTER ENDPOINT [AGEP] STATE = STARTED\r\nEND\r\n\r\n\r\nGO\r\n\r\n:Connect ubuntu2\r\n\r\nIF EXISTS(SELECT * FROM sys.server_event_sessions WHERE name='AlwaysOn_health')\r\nBEGIN\r\n  ALTER EVENT SESSION [AlwaysOn_health] ON SERVER WITH (STARTUP_STATE=ON);\r\nEND\r\nIF NOT EXISTS(SELECT * FROM sys.dm_xe_sessions WHERE name='AlwaysOn_health')\r\nBEGIN\r\n  ALTER EVENT SESSION [AlwaysOn_health] ON SERVER STATE=START;\r\nEND\r\n\r\nGO\r\n\r\n:Connect 10.0.0.30\r\n\r\nUSE [master]\r\n\r\nGO\r\n\r\n\r\n\r\n\r\nCREATE AVAILABILITY GROUP [AW1]\r\nWITH (AUTOMATED_BACKUP_PREFERENCE = SECONDARY,\r\nDB_FAILOVER = ON,\r\nDTC_SUPPORT = NONE,\r\nCLUSTER_TYPE = NONE,\r\nREQUIRED_SYNCHRONIZED_SECONDARIES_TO_COMMIT = 0)\r\nFOR DATABASE [AdventureWorks2017]\r\nREPLICA ON N'ubuntu1' WITH (ENDPOINT_URL = N'TCP://ubuntu1:5022', FAILOVER_MODE = MANUAL, AVAILABILITY_MODE = SYNCHRONOUS_COMMIT, BACKUP_PRIORITY = 50, SEEDING_MODE = MANUAL, SECONDARY_ROLE(ALLOW_CONNECTIONS = ALL)),\r\n\tN'ubuntu2' WITH (ENDPOINT_URL = N'TCP://ubuntu2:5022', FAILOVER_MODE = MANUAL, AVAILABILITY_MODE = SYNCHRONOUS_COMMIT, BACKUP_PRIORITY = 50, SEEDING_MODE = MANUAL, SECONDARY_ROLE(ALLOW_CONNECTIONS = ALL));\r\n\r\nGO\r\n\r\n:Connect 10.0.0.30\r\n\r\nUSE [master]\r\n\r\nGO\r\n\r\nALTER AVAILABILITY GROUP [AW1]\r\nADD LISTENER N'jaw' (\r\nWITH IP\r\n((N'10.0.0.30', N'255.255.255.0')\r\n)\r\n, PORT=15000);\r\n\r\nGO\r\n\r\n:Connect ubuntu2\r\n\r\nALTER AVAILABILITY GROUP [AW1] JOIN WITH (CLUSTER_TYPE = NONE);\r\n\r\nGO\r\n\r\n:Connect ubuntu2\r\n\r\n\r\n-- Wait for the replica to start communicating\r\nbegin try\r\ndeclare @conn bit\r\ndeclare @count int\r\ndeclare @replica_id uniqueidentifier \r\ndeclare @group_id uniqueidentifier\r\nset @conn = 0\r\nset @count = 30 -- wait for 5 minutes \r\n\r\nif (serverproperty('IsHadrEnabled') = 1)\r\n\tand (isnull((select member_state from master.sys.dm_hadr_cluster_members where upper(member_name COLLATE Latin1_General_CI_AS) = upper(cast(serverproperty('ComputerNamePhysicalNetBIOS') as nvarchar(256)) COLLATE Latin1_General_CI_AS)), 0) <> 0)\r\n\tand (isnull((select state from master.sys.database_mirroring_endpoints), 1) = 0)\r\nbegin\r\n    select @group_id = ags.group_id from master.sys.availability_groups as ags where name = N'AW1'\r\n\tselect @replica_id = replicas.replica_id from master.sys.availability_replicas as replicas where upper(replicas.replica_server_name COLLATE Latin1_General_CI_AS) = upper(@@SERVERNAME COLLATE Latin1_General_CI_AS) and group_id = @group_id\r\n\twhile @conn <> 1 and @count > 0\r\n\tbegin\r\n\t\tset @conn = isnull((select connected_state from master.sys.dm_hadr_availability_replica_states as states where states.replica_id = @replica_id), 1)\r\n\t\tif @conn = 1\r\n\t\tbegin\r\n\t\t\t-- exit loop when the replica is connected, or if the query cannot find the replica status\r\n\t\t\tbreak\r\n\t\tend\r\n\t\twaitfor delay '00:00:10'\r\n\t\tset @count = @count - 1\r\n\tend\r\nend\r\nend try\r\nbegin catch\r\n\t-- If the wait loop fails, do not stop execution of the alter database statement\r\nend catch\r\nALTER DATABASE [AdventureWorks2017] SET HADR AVAILABILITY GROUP = [AW1];\r\n\r\nGO\r\n\r\n\r\nGO\r\n\r\n\r\n",
            "metadata": {},
            "outputs": [],
            "execution_count": 0
        },
        {
            "cell_type": "markdown",
            "source": "The area where it fails is on the following: \r\n\r\n",
            "metadata": {}
        },
        {
            "cell_type": "code",
            "source": "ALTER AVAILABILITY GROUP [AW1] JOIN WITH (CLUSTER_TYPE = NONE);",
            "metadata": {},
            "outputs": [],
            "execution_count": 0
        },
        {
            "cell_type": "markdown",
            "source": "But that command completes, allowing the rest of the code to run up to, but not including ",
            "metadata": {}
        },
        {
            "cell_type": "code",
            "source": "ALTER DATABASE [AdventureWorks2017] SET HADR AVAILABILITY GROUP = [AW1];",
            "metadata": {},
            "outputs": [],
            "execution_count": 0
        },
        {
            "cell_type": "markdown",
            "source": "The following error appears in SSMS after the SET HADR AVAILABILITY GROUP command: \r\n\r\nMsg 35250, Level 16, State 7, Line 1\r\n\r\nThe connection to the primary replica is not active.  The command cannot be processed.\r\n\r\nIn the SQL Server error log, this error appears: \r\n\r\nAt 4:20:49 AM a connection timeout has occurred while attempting to establish a connection to availability replica 'ubuntu1' with id [47E6A340-3EC4-43C9-B203-EA07051BCC62]. Either a networking or firewall issue exists, or the endpoint address provided for the replica is not the database mirroring endpoint of the host server instance.\r\nThis is remedied at 4:24:03 AM after updating the script to reference the primary by IP address. \r\n\r\n\r\n<b>Suggestion: Detect when the hostname is not able to be resolved, before attempting to connect to it.   Update error messages to indicate that it could not be resolved. </b>\r\n\r\n",
            "metadata": {}
        },
        {
            "cell_type": "markdown",
            "source": "![Log](log.png)\r\n\r\n\r\n",
            "metadata": {}
        }
    ]
}